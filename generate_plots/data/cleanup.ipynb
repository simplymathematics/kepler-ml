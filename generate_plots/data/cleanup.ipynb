{
 "cells": [
  {
   "cell_type": "code",
   "execution_count": null,
   "metadata": {},
   "outputs": [],
   "source": [
    "import pandas as pd\n",
    "import numpy as np\n",
    "import matplotlib.pyplot as plt\n",
    "import seaborn as sns\n",
    "from pathlib import Path\n",
    "\n",
    "directories = [\n",
    "    \"bit_depth/mnist\",\n",
    "    \"bit_depth/cifar\",\n",
    "    \"bit_depth/cifar100\",\n",
    "    \"mnist\",\n",
    "    \"cifar\",\n",
    "    \"cifar100\",\n",
    "]\n",
    "\n",
    "file = \"power.csv\"\n",
    "\n",
    "for directory in directories:\n",
    "    file_name = Path(directory) / file\n",
    "    file_name = file_name.resolve().as_posix()\n",
    "    df = pd.read_csv(file_name)\n",
    "    # Drop all the columns that end in .1\n",
    "    df = df.loc[:, ~df.columns.str.endswith(\".1\")]\n",
    "    # Write the new csv\n",
    "    df.to_csv(file_name, index=False)"
   ]
  },
  {
   "cell_type": "code",
   "execution_count": null,
   "metadata": {},
   "outputs": [],
   "source": []
  }
 ],
 "metadata": {
  "language_info": {
   "name": "python"
  }
 },
 "nbformat": 4,
 "nbformat_minor": 2
}
